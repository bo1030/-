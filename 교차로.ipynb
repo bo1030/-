{
 "cells": [
  {
   "cell_type": "code",
   "execution_count": 33,
   "metadata": {},
   "outputs": [],
   "source": [
    "import requests\n",
    "from bs4 import BeautifulSoup\n",
    "import csv, codecs"
   ]
  },
  {
   "cell_type": "code",
   "execution_count": 36,
   "metadata": {},
   "outputs": [],
   "source": [
    "URL = 'http://apis.data.go.kr/1320000/CrossRoadInfoService/getCrossRoadInfoList?serviceKey=gFRzxqd2nhvCA7Pqh85lvh7dvzqhvqMT9Crl%2BtvkqONHDu1SHa3Y%2B26m5l86gG8wNaZ5esMry5hQpJVyt6oTLw%3D%3D&type=xml&srchCTId=L01'\n",
    "\n",
    "response = requests.get(URL) \n",
    "response.status_code \n",
    "XML = response.text\n",
    "soup = BeautifulSoup(XML, 'html.parser')\n",
    "with codecs.open(\"cross.csv\", \"w\", encoding = \"euc-kr\") as fc:\n",
    "    f = csv.writer(fc, delimiter=\",\", quotechar = '\"')\n",
    "    f.writerow(['region_cd','int_no','int_nm','x_coord','y_coord','upd_dtime'])\n",
    "    for c in soup.findAll('crossroadinfolist'):\n",
    "        f.writerow([c.find('region_cd').string,c.find('int_no').string,c.find('int_nm').string,c.find('x_coord').string[:3] + '.' + c.find('x_coord').string[3:], c.find('y_coord').string[:2] + '.' + c.find('y_coord').string[2:],c.find('upd_dtime').string])\n"
   ]
  },
  {
   "cell_type": "code",
   "execution_count": null,
   "metadata": {},
   "outputs": [],
   "source": []
  }
 ],
 "metadata": {
  "kernelspec": {
   "display_name": "Python 3",
   "language": "python",
   "name": "python3"
  },
  "language_info": {
   "codemirror_mode": {
    "name": "ipython",
    "version": 3
   },
   "file_extension": ".py",
   "mimetype": "text/x-python",
   "name": "python",
   "nbconvert_exporter": "python",
   "pygments_lexer": "ipython3",
   "version": "3.7.4"
  }
 },
 "nbformat": 4,
 "nbformat_minor": 2
}
